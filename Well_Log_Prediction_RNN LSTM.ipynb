{
  "nbformat": 4,
  "nbformat_minor": 0,
  "metadata": {
    "colab": {
      "name": "Well Log Prediction Using RNN Neural Networks",
      "provenance": [],
      "collapsed_sections": []
    },
    "kernelspec": {
      "name": "python3",
      "display_name": "Python 3"
    },
    "language_info": {
      "name": "python"
    }
  },
  "cells": [
    {
      "cell_type": "code",
      "metadata": {
        "id": "AElm-u0buzE9"
      },
      "source": [
        "import numpy as np\n",
        "from tensorflow.keras.models import Sequential\n",
        "from tensorflow.keras.layers import LSTM\n",
        "from tensorflow.keras.layers import Dense, Dropout\n",
        "import pandas as pd\n",
        "from matplotlib import pyplot as plt\n",
        "from sklearn.preprocessing import StandardScaler\n",
        "import seaborn as sns"
      ],
      "execution_count": null,
      "outputs": []
    },
    {
      "cell_type": "code",
      "metadata": {
        "colab": {
          "base_uri": "https://localhost:8080/"
        },
        "id": "wFvtnwmSwkiS",
        "outputId": "27d3476a-eba2-4365-ceb3-3bbc2f37a7b5"
      },
      "source": [
        "from google.colab import drive\n",
        "drive.mount('/content/drive')"
      ],
      "execution_count": null,
      "outputs": [
        {
          "output_type": "stream",
          "text": [
            "Drive already mounted at /content/drive; to attempt to forcibly remount, call drive.mount(\"/content/drive\", force_remount=True).\n"
          ],
          "name": "stdout"
        }
      ]
    },
    {
      "cell_type": "code",
      "metadata": {
        "colab": {
          "base_uri": "https://localhost:8080/",
          "height": 223
        },
        "id": "SQCFENRTwrvE",
        "outputId": "d9c6f505-960e-4cda-9ea0-44bb5cc8a419"
      },
      "source": [
        "df1 = pd.read_csv('/content/drive/MyDrive/Colab Notebooks/ALL_AI_feet_v1.csv')\n",
        "df1.tail(5)"
      ],
      "execution_count": null,
      "outputs": [
        {
          "output_type": "execute_result",
          "data": {
            "text/html": [
              "<div>\n",
              "<style scoped>\n",
              "    .dataframe tbody tr th:only-of-type {\n",
              "        vertical-align: middle;\n",
              "    }\n",
              "\n",
              "    .dataframe tbody tr th {\n",
              "        vertical-align: top;\n",
              "    }\n",
              "\n",
              "    .dataframe thead th {\n",
              "        text-align: right;\n",
              "    }\n",
              "</style>\n",
              "<table border=\"1\" class=\"dataframe\">\n",
              "  <thead>\n",
              "    <tr style=\"text-align: right;\">\n",
              "      <th></th>\n",
              "      <th>DEPTH</th>\n",
              "      <th>P_Impedance_Orig_Jacana_1</th>\n",
              "      <th>P_Impedance_Orig_Tarotaro_1</th>\n",
              "      <th>P_Impedance_Orig_Tigana_1</th>\n",
              "      <th>P_Impedance_Orig_Tigana_Sur_2</th>\n",
              "      <th>P_Impedance_Orig_Tilo_1</th>\n",
              "    </tr>\n",
              "  </thead>\n",
              "  <tbody>\n",
              "    <tr>\n",
              "      <th>10067</th>\n",
              "      <td>11143.5</td>\n",
              "      <td>NaN</td>\n",
              "      <td>NaN</td>\n",
              "      <td>NaN</td>\n",
              "      <td>NaN</td>\n",
              "      <td>1.010777e+07</td>\n",
              "    </tr>\n",
              "    <tr>\n",
              "      <th>10068</th>\n",
              "      <td>11144.0</td>\n",
              "      <td>NaN</td>\n",
              "      <td>NaN</td>\n",
              "      <td>NaN</td>\n",
              "      <td>NaN</td>\n",
              "      <td>1.010485e+07</td>\n",
              "    </tr>\n",
              "    <tr>\n",
              "      <th>10069</th>\n",
              "      <td>11144.5</td>\n",
              "      <td>NaN</td>\n",
              "      <td>NaN</td>\n",
              "      <td>NaN</td>\n",
              "      <td>NaN</td>\n",
              "      <td>1.009122e+07</td>\n",
              "    </tr>\n",
              "    <tr>\n",
              "      <th>10070</th>\n",
              "      <td>11145.0</td>\n",
              "      <td>NaN</td>\n",
              "      <td>NaN</td>\n",
              "      <td>NaN</td>\n",
              "      <td>NaN</td>\n",
              "      <td>1.003315e+07</td>\n",
              "    </tr>\n",
              "    <tr>\n",
              "      <th>10071</th>\n",
              "      <td>11145.5</td>\n",
              "      <td>NaN</td>\n",
              "      <td>NaN</td>\n",
              "      <td>NaN</td>\n",
              "      <td>NaN</td>\n",
              "      <td>1.003211e+07</td>\n",
              "    </tr>\n",
              "  </tbody>\n",
              "</table>\n",
              "</div>"
            ],
            "text/plain": [
              "         DEPTH  ...  P_Impedance_Orig_Tilo_1\n",
              "10067  11143.5  ...             1.010777e+07\n",
              "10068  11144.0  ...             1.010485e+07\n",
              "10069  11144.5  ...             1.009122e+07\n",
              "10070  11145.0  ...             1.003315e+07\n",
              "10071  11145.5  ...             1.003211e+07\n",
              "\n",
              "[5 rows x 6 columns]"
            ]
          },
          "metadata": {
            "tags": []
          },
          "execution_count": 3
        }
      ]
    },
    {
      "cell_type": "code",
      "metadata": {
        "id": "-RXS8BW8xcKg"
      },
      "source": [
        "df=df1.loc[:,['DEPTH','P_Impedance_Orig_Jacana_1', 'P_Impedance_Orig_Tigana_1', 'P_Impedance_Orig_Tigana_Sur_2']]\n",
        "df=df.dropna().sort_index(ascending=False)"
      ],
      "execution_count": null,
      "outputs": []
    },
    {
      "cell_type": "code",
      "metadata": {
        "colab": {
          "base_uri": "https://localhost:8080/",
          "height": 417
        },
        "id": "Yx7mhPeCmkD1",
        "outputId": "537b005c-36c1-410c-9b3e-a2626b3597b9"
      },
      "source": [
        "df"
      ],
      "execution_count": null,
      "outputs": [
        {
          "output_type": "execute_result",
          "data": {
            "text/html": [
              "<div>\n",
              "<style scoped>\n",
              "    .dataframe tbody tr th:only-of-type {\n",
              "        vertical-align: middle;\n",
              "    }\n",
              "\n",
              "    .dataframe tbody tr th {\n",
              "        vertical-align: top;\n",
              "    }\n",
              "\n",
              "    .dataframe thead th {\n",
              "        text-align: right;\n",
              "    }\n",
              "</style>\n",
              "<table border=\"1\" class=\"dataframe\">\n",
              "  <thead>\n",
              "    <tr style=\"text-align: right;\">\n",
              "      <th></th>\n",
              "      <th>DEPTH</th>\n",
              "      <th>P_Impedance_Orig_Jacana_1</th>\n",
              "      <th>P_Impedance_Orig_Tigana_1</th>\n",
              "      <th>P_Impedance_Orig_Tigana_Sur_2</th>\n",
              "    </tr>\n",
              "  </thead>\n",
              "  <tbody>\n",
              "    <tr>\n",
              "      <th>9351</th>\n",
              "      <td>10785.5</td>\n",
              "      <td>1.038965e+07</td>\n",
              "      <td>9.648502e+06</td>\n",
              "      <td>9.397183e+06</td>\n",
              "    </tr>\n",
              "    <tr>\n",
              "      <th>9350</th>\n",
              "      <td>10785.0</td>\n",
              "      <td>1.050666e+07</td>\n",
              "      <td>9.635426e+06</td>\n",
              "      <td>9.494157e+06</td>\n",
              "    </tr>\n",
              "    <tr>\n",
              "      <th>9349</th>\n",
              "      <td>10784.5</td>\n",
              "      <td>1.084664e+07</td>\n",
              "      <td>9.428387e+06</td>\n",
              "      <td>9.408238e+06</td>\n",
              "    </tr>\n",
              "    <tr>\n",
              "      <th>9348</th>\n",
              "      <td>10784.0</td>\n",
              "      <td>1.126829e+07</td>\n",
              "      <td>9.262972e+06</td>\n",
              "      <td>9.292719e+06</td>\n",
              "    </tr>\n",
              "    <tr>\n",
              "      <th>9347</th>\n",
              "      <td>10783.5</td>\n",
              "      <td>1.218221e+07</td>\n",
              "      <td>9.178274e+06</td>\n",
              "      <td>9.529296e+06</td>\n",
              "    </tr>\n",
              "    <tr>\n",
              "      <th>...</th>\n",
              "      <td>...</td>\n",
              "      <td>...</td>\n",
              "      <td>...</td>\n",
              "      <td>...</td>\n",
              "    </tr>\n",
              "    <tr>\n",
              "      <th>5108</th>\n",
              "      <td>8664.0</td>\n",
              "      <td>6.284371e+06</td>\n",
              "      <td>6.645608e+06</td>\n",
              "      <td>6.843887e+06</td>\n",
              "    </tr>\n",
              "    <tr>\n",
              "      <th>5107</th>\n",
              "      <td>8663.5</td>\n",
              "      <td>6.254087e+06</td>\n",
              "      <td>6.645608e+06</td>\n",
              "      <td>6.830269e+06</td>\n",
              "    </tr>\n",
              "    <tr>\n",
              "      <th>5106</th>\n",
              "      <td>8663.0</td>\n",
              "      <td>6.253236e+06</td>\n",
              "      <td>6.647746e+06</td>\n",
              "      <td>6.808649e+06</td>\n",
              "    </tr>\n",
              "    <tr>\n",
              "      <th>5105</th>\n",
              "      <td>8662.5</td>\n",
              "      <td>6.358802e+06</td>\n",
              "      <td>6.676022e+06</td>\n",
              "      <td>6.835924e+06</td>\n",
              "    </tr>\n",
              "    <tr>\n",
              "      <th>5104</th>\n",
              "      <td>8662.0</td>\n",
              "      <td>6.452947e+06</td>\n",
              "      <td>6.620598e+06</td>\n",
              "      <td>6.889710e+06</td>\n",
              "    </tr>\n",
              "  </tbody>\n",
              "</table>\n",
              "<p>4245 rows × 4 columns</p>\n",
              "</div>"
            ],
            "text/plain": [
              "        DEPTH  ...  P_Impedance_Orig_Tigana_Sur_2\n",
              "9351  10785.5  ...                   9.397183e+06\n",
              "9350  10785.0  ...                   9.494157e+06\n",
              "9349  10784.5  ...                   9.408238e+06\n",
              "9348  10784.0  ...                   9.292719e+06\n",
              "9347  10783.5  ...                   9.529296e+06\n",
              "...       ...  ...                            ...\n",
              "5108   8664.0  ...                   6.843887e+06\n",
              "5107   8663.5  ...                   6.830269e+06\n",
              "5106   8663.0  ...                   6.808649e+06\n",
              "5105   8662.5  ...                   6.835924e+06\n",
              "5104   8662.0  ...                   6.889710e+06\n",
              "\n",
              "[4245 rows x 4 columns]"
            ]
          },
          "metadata": {
            "tags": []
          },
          "execution_count": 5
        }
      ]
    },
    {
      "cell_type": "code",
      "metadata": {
        "colab": {
          "base_uri": "https://localhost:8080/"
        },
        "id": "RZ0cG9IwSzCt",
        "outputId": "3a1fce63-6d58-4da8-8cce-21e208095c7d"
      },
      "source": [
        "train_data=pd.Series(df['DEPTH'])\n",
        "train_data"
      ],
      "execution_count": null,
      "outputs": [
        {
          "output_type": "execute_result",
          "data": {
            "text/plain": [
              "9351    10785.5\n",
              "9350    10785.0\n",
              "9349    10784.5\n",
              "9348    10784.0\n",
              "9347    10783.5\n",
              "         ...   \n",
              "5108     8664.0\n",
              "5107     8663.5\n",
              "5106     8663.0\n",
              "5105     8662.5\n",
              "5104     8662.0\n",
              "Name: DEPTH, Length: 4245, dtype: float64"
            ]
          },
          "metadata": {
            "tags": []
          },
          "execution_count": 6
        }
      ]
    },
    {
      "cell_type": "code",
      "metadata": {
        "id": "g5oTfhXZxw4G"
      },
      "source": [
        "cols = list(df)[1:6]\n",
        "df_for_training = df[cols].astype(float)"
      ],
      "execution_count": null,
      "outputs": []
    },
    {
      "cell_type": "code",
      "metadata": {
        "id": "z89QU-07xx2M"
      },
      "source": [
        "scaler = StandardScaler()\n",
        "scaler = scaler.fit(df_for_training)\n",
        "df_for_training_scaled = scaler.transform(df_for_training)"
      ],
      "execution_count": null,
      "outputs": []
    },
    {
      "cell_type": "code",
      "metadata": {
        "id": "S2SKctZNzUar"
      },
      "source": [
        "trainX = []\n",
        "trainY = []"
      ],
      "execution_count": null,
      "outputs": []
    },
    {
      "cell_type": "code",
      "metadata": {
        "id": "LKmPCQrhzXUo"
      },
      "source": [
        "n_future = 1   # Number of days we want to look into the future based on the past days.\n",
        "n_past = 14  # Number of past days we want to use to predict the future."
      ],
      "execution_count": null,
      "outputs": []
    },
    {
      "cell_type": "code",
      "metadata": {
        "colab": {
          "base_uri": "https://localhost:8080/"
        },
        "id": "wANMdldgzf1C",
        "outputId": "037ffb5b-ebf9-4320-be0f-0b3d6179fedd"
      },
      "source": [
        "for i in range(n_past, len(df_for_training_scaled) - n_future +1):\n",
        "    trainX.append(df_for_training_scaled[i - n_past:i, 0:df_for_training.shape[1]])\n",
        "    trainY.append(df_for_training_scaled[i + n_future - 1:i + n_future, 0])\n",
        "\n",
        "trainX, trainY = np.array(trainX), np.array(trainY)\n",
        "\n",
        "print('trainX shape == {}.'.format(trainX.shape))\n",
        "print('trainY shape == {}.'.format(trainY.shape))"
      ],
      "execution_count": null,
      "outputs": [
        {
          "output_type": "stream",
          "text": [
            "trainX shape == (4231, 14, 3).\n",
            "trainY shape == (4231, 1).\n"
          ],
          "name": "stdout"
        }
      ]
    },
    {
      "cell_type": "markdown",
      "metadata": {
        "id": "cs0wUZdNz7Z2"
      },
      "source": [
        "In my case, trainX has a shape (4231, 14, 3). \n",
        "4234 because we are looking back 14 days (4231 - 14 = 4217). \n",
        "Remember that we cannot look back 14 days until we get to the 15th day. \n",
        "Also, trainY has a shape (4231, 1). Our model only predicts a single value, but \n",
        "it needs multiple variables (3 in my example) to make this prediction. \n",
        "This is why we can only predict a single day after our training, the day after where our data ends.\n",
        "To predict more days in future, we need all the 3 variables which we do not have. \n",
        "We need to predict all variables if we want to do that."
      ]
    },
    {
      "cell_type": "code",
      "metadata": {
        "colab": {
          "base_uri": "https://localhost:8080/"
        },
        "id": "pQlsPPu70CGf",
        "outputId": "09666935-77d6-4bf8-b534-5a3eb909be4b"
      },
      "source": [
        "model = Sequential()\n",
        "model.add(LSTM(64, activation='relu', input_shape=(trainX.shape[1], trainX.shape[2]), return_sequences=True))\n",
        "model.add(LSTM(32, activation='relu', return_sequences=False))\n",
        "model.add(Dropout(0.2))\n",
        "model.add(Dense(trainY.shape[1]))\n",
        "\n",
        "model.compile(optimizer='adam', loss='mse')\n",
        "model.summary()"
      ],
      "execution_count": null,
      "outputs": [
        {
          "output_type": "stream",
          "text": [
            "Model: \"sequential\"\n",
            "_________________________________________________________________\n",
            "Layer (type)                 Output Shape              Param #   \n",
            "=================================================================\n",
            "lstm (LSTM)                  (None, 14, 64)            17408     \n",
            "_________________________________________________________________\n",
            "lstm_1 (LSTM)                (None, 32)                12416     \n",
            "_________________________________________________________________\n",
            "dropout (Dropout)            (None, 32)                0         \n",
            "_________________________________________________________________\n",
            "dense (Dense)                (None, 1)                 33        \n",
            "=================================================================\n",
            "Total params: 29,857\n",
            "Trainable params: 29,857\n",
            "Non-trainable params: 0\n",
            "_________________________________________________________________\n"
          ],
          "name": "stdout"
        }
      ]
    },
    {
      "cell_type": "code",
      "metadata": {
        "colab": {
          "base_uri": "https://localhost:8080/"
        },
        "id": "ExVWt_Qn0iv9",
        "outputId": "dfc35a20-cbcc-48ed-95b9-f83854f49db5"
      },
      "source": [
        "# fit the model\n",
        "history = model.fit(trainX, trainY, epochs=5, batch_size=16, validation_split=0.1, verbose=1)"
      ],
      "execution_count": null,
      "outputs": [
        {
          "output_type": "stream",
          "text": [
            "Epoch 1/5\n",
            "238/238 [==============================] - 7s 19ms/step - loss: 0.3899 - val_loss: 0.1378\n",
            "Epoch 2/5\n",
            "238/238 [==============================] - 4s 15ms/step - loss: 0.1519 - val_loss: 0.0521\n",
            "Epoch 3/5\n",
            "238/238 [==============================] - 4s 17ms/step - loss: 0.1001 - val_loss: 0.0297\n",
            "Epoch 4/5\n",
            "238/238 [==============================] - 3s 14ms/step - loss: 0.0866 - val_loss: 0.0354\n",
            "Epoch 5/5\n",
            "238/238 [==============================] - 3s 13ms/step - loss: 0.0801 - val_loss: 0.0277\n"
          ],
          "name": "stdout"
        }
      ]
    },
    {
      "cell_type": "code",
      "metadata": {
        "colab": {
          "base_uri": "https://localhost:8080/",
          "height": 282
        },
        "id": "cj8eeKRZ1Bms",
        "outputId": "cf7c616c-20b1-495f-de25-f1660a843375"
      },
      "source": [
        "plt.plot(history.history['loss'], label='Training loss')\n",
        "plt.plot(history.history['val_loss'], label='Validation loss')\n",
        "plt.legend()"
      ],
      "execution_count": null,
      "outputs": [
        {
          "output_type": "execute_result",
          "data": {
            "text/plain": [
              "<matplotlib.legend.Legend at 0x7fc50d67d650>"
            ]
          },
          "metadata": {
            "tags": []
          },
          "execution_count": 14
        },
        {
          "output_type": "display_data",
          "data": {
            "image/png": "[encoded data removed]",
            "text/plain": [
              "<Figure size 432x288 with 1 Axes>"
            ]
          },
          "metadata": {
            "tags": [],
            "needs_background": "light"
          }
        }
      ]
    },
    {
      "cell_type": "code",
      "metadata": {
        "id": "fYtq-3UkSKAd"
      },
      "source": [
        "n_future=90\n",
        "predict_data=[]\n",
        "depth_data=int(list(train_data)[-1])+0.5\n",
        "for i in range(n_future):\n",
        "  \n",
        "  depth_data=depth_data+0.5\n",
        "  predict_data.append(depth_data)\n",
        "\n",
        "\n",
        "#predict_data"
      ],
      "execution_count": null,
      "outputs": []
    },
    {
      "cell_type": "markdown",
      "metadata": {
        "id": "A-ESfdzD9x4d"
      },
      "source": [
        "#Acondicionamiento Datos Well Tilo"
      ]
    },
    {
      "cell_type": "code",
      "metadata": {
        "colab": {
          "base_uri": "https://localhost:8080/",
          "height": 417
        },
        "id": "jQ2Fr-Ua94Y8",
        "outputId": "7d2e95f4-f1b5-4097-857c-176c1d142332"
      },
      "source": [
        "df_tilo1=df1.loc[:,['DEPTH','P_Impedance_Orig_Tigana_Sur_2', 'P_Impedance_Orig_Tigana_1','P_Impedance_Orig_Tilo_1']].sort_index(ascending=False)\n",
        "df_tilo=df_tilo1.dropna()\n",
        "df_tilo"
      ],
      "execution_count": null,
      "outputs": [
        {
          "output_type": "execute_result",
          "data": {
            "text/html": [
              "<div>\n",
              "<style scoped>\n",
              "    .dataframe tbody tr th:only-of-type {\n",
              "        vertical-align: middle;\n",
              "    }\n",
              "\n",
              "    .dataframe tbody tr th {\n",
              "        vertical-align: top;\n",
              "    }\n",
              "\n",
              "    .dataframe thead th {\n",
              "        text-align: right;\n",
              "    }\n",
              "</style>\n",
              "<table border=\"1\" class=\"dataframe\">\n",
              "  <thead>\n",
              "    <tr style=\"text-align: right;\">\n",
              "      <th></th>\n",
              "      <th>DEPTH</th>\n",
              "      <th>P_Impedance_Orig_Tigana_Sur_2</th>\n",
              "      <th>P_Impedance_Orig_Tigana_1</th>\n",
              "      <th>P_Impedance_Orig_Tilo_1</th>\n",
              "    </tr>\n",
              "  </thead>\n",
              "  <tbody>\n",
              "    <tr>\n",
              "      <th>9897</th>\n",
              "      <td>11058.5</td>\n",
              "      <td>9.572675e+06</td>\n",
              "      <td>9.469339e+06</td>\n",
              "      <td>1.029973e+07</td>\n",
              "    </tr>\n",
              "    <tr>\n",
              "      <th>9896</th>\n",
              "      <td>11058.0</td>\n",
              "      <td>9.523074e+06</td>\n",
              "      <td>9.431762e+06</td>\n",
              "      <td>1.037811e+07</td>\n",
              "    </tr>\n",
              "    <tr>\n",
              "      <th>9895</th>\n",
              "      <td>11057.5</td>\n",
              "      <td>9.699724e+06</td>\n",
              "      <td>9.530007e+06</td>\n",
              "      <td>1.032239e+07</td>\n",
              "    </tr>\n",
              "    <tr>\n",
              "      <th>9894</th>\n",
              "      <td>11057.0</td>\n",
              "      <td>9.778567e+06</td>\n",
              "      <td>9.608222e+06</td>\n",
              "      <td>1.025428e+07</td>\n",
              "    </tr>\n",
              "    <tr>\n",
              "      <th>9893</th>\n",
              "      <td>11056.5</td>\n",
              "      <td>9.881845e+06</td>\n",
              "      <td>9.607510e+06</td>\n",
              "      <td>1.032887e+07</td>\n",
              "    </tr>\n",
              "    <tr>\n",
              "      <th>...</th>\n",
              "      <td>...</td>\n",
              "      <td>...</td>\n",
              "      <td>...</td>\n",
              "      <td>...</td>\n",
              "    </tr>\n",
              "    <tr>\n",
              "      <th>8334</th>\n",
              "      <td>10277.0</td>\n",
              "      <td>1.059163e+07</td>\n",
              "      <td>1.002335e+07</td>\n",
              "      <td>7.797628e+06</td>\n",
              "    </tr>\n",
              "    <tr>\n",
              "      <th>8333</th>\n",
              "      <td>10276.5</td>\n",
              "      <td>1.087256e+07</td>\n",
              "      <td>1.015920e+07</td>\n",
              "      <td>7.511554e+06</td>\n",
              "    </tr>\n",
              "    <tr>\n",
              "      <th>8332</th>\n",
              "      <td>10276.0</td>\n",
              "      <td>1.083685e+07</td>\n",
              "      <td>1.000030e+07</td>\n",
              "      <td>6.754105e+06</td>\n",
              "    </tr>\n",
              "    <tr>\n",
              "      <th>8331</th>\n",
              "      <td>10275.5</td>\n",
              "      <td>1.070435e+07</td>\n",
              "      <td>9.846709e+06</td>\n",
              "      <td>6.476298e+06</td>\n",
              "    </tr>\n",
              "    <tr>\n",
              "      <th>8330</th>\n",
              "      <td>10275.0</td>\n",
              "      <td>1.044533e+07</td>\n",
              "      <td>9.648014e+06</td>\n",
              "      <td>6.418064e+06</td>\n",
              "    </tr>\n",
              "  </tbody>\n",
              "</table>\n",
              "<p>1568 rows × 4 columns</p>\n",
              "</div>"
            ],
            "text/plain": [
              "        DEPTH  ...  P_Impedance_Orig_Tilo_1\n",
              "9897  11058.5  ...             1.029973e+07\n",
              "9896  11058.0  ...             1.037811e+07\n",
              "9895  11057.5  ...             1.032239e+07\n",
              "9894  11057.0  ...             1.025428e+07\n",
              "9893  11056.5  ...             1.032887e+07\n",
              "...       ...  ...                      ...\n",
              "8334  10277.0  ...             7.797628e+06\n",
              "8333  10276.5  ...             7.511554e+06\n",
              "8332  10276.0  ...             6.754105e+06\n",
              "8331  10275.5  ...             6.476298e+06\n",
              "8330  10275.0  ...             6.418064e+06\n",
              "\n",
              "[1568 rows x 4 columns]"
            ]
          },
          "metadata": {
            "tags": []
          },
          "execution_count": 48
        }
      ]
    },
    {
      "cell_type": "code",
      "metadata": {
        "id": "-xsC0Lvm-6fi",
        "colab": {
          "base_uri": "https://localhost:8080/"
        },
        "outputId": "fe67b7fe-79ee-4aa5-f736-48a70041d1b5"
      },
      "source": [
        "train_data_tilo=pd.Series(df_tilo['DEPTH'])\n",
        "train_data_tilo"
      ],
      "execution_count": null,
      "outputs": [
        {
          "output_type": "execute_result",
          "data": {
            "text/plain": [
              "9897    11058.5\n",
              "9896    11058.0\n",
              "9895    11057.5\n",
              "9894    11057.0\n",
              "9893    11056.5\n",
              "         ...   \n",
              "8334    10277.0\n",
              "8333    10276.5\n",
              "8332    10276.0\n",
              "8331    10275.5\n",
              "8330    10275.0\n",
              "Name: DEPTH, Length: 1568, dtype: float64"
            ]
          },
          "metadata": {
            "tags": []
          },
          "execution_count": 49
        }
      ]
    },
    {
      "cell_type": "code",
      "metadata": {
        "id": "B-A7FVGo_MPd"
      },
      "source": [
        "cols = list(df_tilo)[1:6]\n",
        "df_for_training_tilo = df_tilo[cols].astype(float)"
      ],
      "execution_count": null,
      "outputs": []
    },
    {
      "cell_type": "code",
      "metadata": {
        "id": "ZipIEfrs_SB4"
      },
      "source": [
        "scaler = StandardScaler()\n",
        "scaler = scaler.fit(df_for_training_tilo)\n",
        "df_for_training_scaled = scaler.transform(df_for_training_tilo)"
      ],
      "execution_count": null,
      "outputs": []
    },
    {
      "cell_type": "code",
      "metadata": {
        "id": "jfpV9gkj_lPM"
      },
      "source": [
        "trainX_tilo = []\n",
        "trainY_tilo = []"
      ],
      "execution_count": null,
      "outputs": []
    },
    {
      "cell_type": "code",
      "metadata": {
        "id": "PZvWNLoH_vv5"
      },
      "source": [
        "n_future = 1   # Number of days we want to look into the future based on the past days.\n",
        "n_past = 14"
      ],
      "execution_count": null,
      "outputs": []
    },
    {
      "cell_type": "code",
      "metadata": {
        "colab": {
          "base_uri": "https://localhost:8080/"
        },
        "id": "2Sy69Caa_wmW",
        "outputId": "df54ac4b-226b-48ff-8358-e645349f2e00"
      },
      "source": [
        "for i in range(n_past, len(df_for_training_scaled) - n_future +1):\n",
        "    trainX_tilo.append(df_for_training_scaled[i - n_past:i, 0:df_for_training_tilo.shape[1]])\n",
        "    trainY_tilo.append(df_for_training_scaled[i + n_future - 1:i + n_future, 0])\n",
        "\n",
        "trainX_tilo, trainY_tilo = np.array(trainX_tilo), np.array(trainY_tilo)\n",
        "\n",
        "print('trainX shape == {}.'.format(trainX_tilo.shape))\n",
        "print('trainY shape == {}.'.format(trainY_tilo.shape))"
      ],
      "execution_count": null,
      "outputs": [
        {
          "output_type": "stream",
          "text": [
            "trainX shape == (1554, 14, 3).\n",
            "trainY shape == (1554, 1).\n"
          ],
          "name": "stdout"
        }
      ]
    },
    {
      "cell_type": "markdown",
      "metadata": {
        "id": "tdauVztCDjy5"
      },
      "source": [
        "#Prediccion del pozo Tilo con el entrenamiento de los pozos completos"
      ]
    },
    {
      "cell_type": "code",
      "metadata": {
        "id": "C3H4He9_1IKb"
      },
      "source": [
        "n_future = 1500\n",
        "\n",
        "prediction = model.predict(trainX_tilo[-n_future:])\n",
        "prediction_copies=np.repeat(prediction,df_for_training_tilo.shape[1],axis=1)\n",
        "y_pred_future = scaler.inverse_transform(prediction_copies)[:,0]\n",
        "#prediction_copies\n",
        "#y_pred_future"
      ],
      "execution_count": null,
      "outputs": []
    },
    {
      "cell_type": "code",
      "metadata": {
        "id": "A5s98QvfD9S3"
      },
      "source": [
        "#n_future=90\n",
        "predict_data=[]\n",
        "depth_data=int(list(train_data_tilo)[-1])\n",
        "for i in range(n_future):\n",
        "  \n",
        "  depth_data=depth_data-0.5\n",
        "  predict_data.append(depth_data)"
      ],
      "execution_count": null,
      "outputs": []
    },
    {
      "cell_type": "code",
      "metadata": {
        "id": "MwdqsfibFUs8",
        "colab": {
          "base_uri": "https://localhost:8080/"
        },
        "outputId": "f52db3ca-5b39-4b3b-eb34-9ef37e6e0a25"
      },
      "source": [
        "len(predict_data)"
      ],
      "execution_count": null,
      "outputs": [
        {
          "output_type": "execute_result",
          "data": {
            "text/plain": [
              "1500"
            ]
          },
          "metadata": {
            "tags": []
          },
          "execution_count": 57
        }
      ]
    },
    {
      "cell_type": "code",
      "metadata": {
        "id": "r2CjcwQpN-qF"
      },
      "source": [
        "forecast_data=[]\n",
        "for i in predict_data:\n",
        "  forecast_data.append(i)\n",
        "\n",
        "df_forecast = pd.DataFrame({'DEPTH':np.array(forecast_data), 'P_Impedance_Orig_Tilo_1':y_pred_future})\n",
        "\n",
        "original = df_tilo[['DEPTH', 'P_Impedance_Orig_Tilo_1']]\n",
        "original = original.loc[original['DEPTH'] >= 10275.0]\n",
        "\n"
      ],
      "execution_count": null,
      "outputs": []
    },
    {
      "cell_type": "code",
      "metadata": {
        "id": "fYWM2mgMGEy_"
      },
      "source": [
        "#df_forecast"
      ],
      "execution_count": null,
      "outputs": []
    },
    {
      "cell_type": "code",
      "metadata": {
        "id": "yvjPTOHronR7"
      },
      "source": [
        "original"
      ],
      "execution_count": null,
      "outputs": []
    },
    {
      "cell_type": "code",
      "metadata": {
        "id": "dOgrTugYmSy-"
      },
      "source": [
        "original_tilo_1=df_tilo1.loc[:,['DEPTH','P_Impedance_Orig_Tilo_1']].sort_index(ascending=False)\n",
        "original_tilo = original_tilo_1.loc[original_tilo_1['DEPTH'] >= 10275.0]\n",
        "Well_Log_Tilo = pd.concat([df_forecast, original_tilo]).sort_values('DEPTH')\n",
        "Well_Log_Tilo.to_csv('Well_Log_Tilo.csv', header=True, index=False)"
      ],
      "execution_count": null,
      "outputs": []
    },
    {
      "cell_type": "code",
      "metadata": {
        "colab": {
          "base_uri": "https://localhost:8080/",
          "height": 394
        },
        "id": "TdzsRypKfqAk",
        "outputId": "1872a614-5164-4456-e4fa-9d85cc6dbfd4"
      },
      "source": [
        "sns.lineplot(original_tilo['DEPTH'], original_tilo['P_Impedance_Orig_Tilo_1'])\n",
        "sns.lineplot(df_forecast['DEPTH'], df_forecast['P_Impedance_Orig_Tilo_1'])"
      ],
      "execution_count": null,
      "outputs": [
        {
          "output_type": "stream",
          "text": [
            "/usr/local/lib/python3.7/dist-packages/seaborn/_decorators.py:43: FutureWarning: Pass the following variables as keyword args: x, y. From version 0.12, the only valid positional argument will be `data`, and passing other arguments without an explicit keyword will result in an error or misinterpretation.\n",
            "  FutureWarning\n",
            "/usr/local/lib/python3.7/dist-packages/seaborn/_decorators.py:43: FutureWarning: Pass the following variables as keyword args: x, y. From version 0.12, the only valid positional argument will be `data`, and passing other arguments without an explicit keyword will result in an error or misinterpretation.\n",
            "  FutureWarning\n"
          ],
          "name": "stderr"
        },
        {
          "output_type": "execute_result",
          "data": {
            "text/plain": [
              "<matplotlib.axes._subplots.AxesSubplot at 0x7fc50c5e87d0>"
            ]
          },
          "metadata": {
            "tags": []
          },
          "execution_count": 61
        },
        {
          "output_type": "display_data",
          "data": {
            "image/png": "[encoded data removed]",
            "text/plain": [
              "<Figure size 432x288 with 1 Axes>"
            ]
          },
          "metadata": {
            "tags": [],
            "needs_background": "light"
          }
        }
      ]
    },
    {
      "cell_type": "code",
      "metadata": {
        "id": "YorI6eSgmTc4"
      },
      "source": [
        "original_tilo\n",
        "Well_Log_Tilo"
      ],
      "execution_count": null,
      "outputs": []
    }
  ]
}